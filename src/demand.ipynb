{
 "cells": [
  {
   "cell_type": "code",
   "execution_count": null,
   "metadata": {},
   "outputs": [
    {
     "name": "stderr",
     "output_type": "stream",
     "text": [
      "C:\\Users\\Rahim\\AppData\\Local\\Temp\\ipykernel_11980\\2391168833.py:3: DeprecationWarning: Importing display from IPython.core.display is deprecated since IPython 7.14, please import from IPython display\n",
      "  from IPython.core.display import display, HTML\n"
     ]
    },
    {
     "data": {
      "text/html": [
       "<p>[Your Law Firm’s Letterhead]<br />\n",
       "[Your Name]<br />\n",
       "[Your Title]<br />\n",
       "[Your Law Firm’s Name]<br />\n",
       "[Your Law Firm’s Address]<br />\n",
       "[City, State, Zip Code]<br />\n",
       "[Email Address]<br />\n",
       "[Phone Number]<br />\n",
       "[Date]  </p>\n",
       "<p>[Recipient's Name]<br />\n",
       "[Recipient's Title]<br />\n",
       "Taco Bell<br />\n",
       "[Employer's Address]<br />\n",
       "[City, State, Zip Code]  </p>\n",
       "<p><strong>Re: Demand for Resolution Regarding Employment Termination and Discrimination Claims</strong></p>\n",
       "<p>Dear [Recipient's Name],</p>\n",
       "<p>I am writing to you on behalf of my client, [Client's Name], who has retained my services concerning serious grievances arising from their recent employment with Taco Bell. This letter serves as a formal demand for resolution regarding the unlawful termination and discriminatory practices my client has experienced.</p>\n",
       "<p><strong>Summary of Facts</strong></p>\n",
       "<p>My client was employed as an Independent Contractor at Taco Bell from November 27, 2024, until their termination on November 28, 2024. During their employment, my client was subjected to ongoing sexual harassment by their supervisor, Mike Smith, in the break room. Despite reporting these incidents, my client faced retaliation and was subsequently terminated. Additionally, my client has raised concerns regarding unpaid regular hours and has indicated that they were misclassified as an independent contractor under the Fair Labor Standards Act (FLSA).</p>\n",
       "<p>My client has also reported experiencing discrimination based on race, gender, and sexual orientation, which violates the Fair Employment and Housing Act (FEHA) and other applicable federal and state laws. Specifically, my client has been subjected to derogatory remarks and was denied the opportunity to pray at work, which constitutes a violation of their rights.</p>\n",
       "<p><strong>Legal Claims</strong></p>\n",
       "<ol>\n",
       "<li>\n",
       "<p><strong>Unlawful Termination</strong>: My client’s termination appears to be retaliatory in nature, violating public policy and potentially the California Labor Code.</p>\n",
       "</li>\n",
       "<li>\n",
       "<p><strong>Discrimination</strong>: My client has experienced discrimination based on race, gender, and sexual orientation, which violates the FEHA (Cal. Gov. Code § 12940 et seq.) and Title VII of the Civil Rights Act of 1964 (42 U.S.C. § 2000e et seq.).</p>\n",
       "</li>\n",
       "<li>\n",
       "<p><strong>Misclassification</strong>: My client has been misclassified as an independent contractor, which violates the FLSA (29 U.S.C. § 201 et seq.) and California Labor Code provisions regarding employee classification.</p>\n",
       "</li>\n",
       "</ol>\n",
       "<p><strong>Demand for Resolution</strong></p>\n",
       "<p>In light of the above, we demand the following:</p>\n",
       "<ol>\n",
       "<li>\n",
       "<p>Immediate reinstatement of my client to their position or, alternatively, a mutually agreed-upon settlement amount of $[specific amount] to compensate for lost wages, emotional distress, and punitive damages.</p>\n",
       "</li>\n",
       "<li>\n",
       "<p>A commitment from Taco Bell to implement training and policies to prevent future discrimination and harassment in the workplace.</p>\n",
       "</li>\n",
       "<li>\n",
       "<p>A written apology acknowledging the wrongful termination and discriminatory practices experienced by my client.</p>\n",
       "</li>\n",
       "</ol>\n",
       "<p><strong>Deadline for Response</strong></p>\n",
       "<p>Please respond to this letter by [insert date, typically 14 days from the date of the letter]. If we do not receive a satisfactory response within this timeframe, we will consider all available legal remedies, including filing a formal complaint with the appropriate state and federal agencies and pursuing litigation.</p>\n",
       "<p>We hope to resolve this matter amicably and look forward to your prompt attention to this serious issue.</p>\n",
       "<p>Sincerely,</p>\n",
       "<p>[Your Signature]<br />\n",
       "[Your Printed Name]<br />\n",
       "[Your Title]<br />\n",
       "[Your Law Firm’s Name]  </p>\n",
       "<p><strong>Cc:</strong> [Client's Name]<br />\n",
       "<strong>Enclosures:</strong> [Any relevant documents, if applicable]</p>"
      ],
      "text/plain": [
       "<IPython.core.display.HTML object>"
      ]
     },
     "metadata": {},
     "output_type": "display_data"
    }
   ],
   "source": [
    "import markdown\n",
    "import json\n",
    "from IPython.core.display import display, HTML\n",
    "\n",
    "# Demand letter JSON\n",
    "data = {\n",
    "  \"demand_letter\": \"[Your Law Firm’s Letterhead]  \\n[Your Name]  \\n[Your Title]  \\n[Your Law Firm’s Name]  \\n[Your Law Firm’s Address]  \\n[City, State, Zip Code]  \\n[Email Address]  \\n[Phone Number]  \\n[Date]  \\n\\n[Recipient's Name]  \\n[Recipient's Title]  \\nTaco Bell  \\n[Employer's Address]  \\n[City, State, Zip Code]  \\n\\n**Re: Demand for Resolution Regarding Employment Termination and Discrimination Claims**\\n\\nDear [Recipient's Name],\\n\\nI am writing to you on behalf of my client, [Client's Name], who has retained my services concerning serious grievances arising from their recent employment with Taco Bell. This letter serves as a formal demand for resolution regarding the unlawful termination and discriminatory practices my client has experienced.\\n\\n**Summary of Facts**\\n\\nMy client was employed as an Independent Contractor at Taco Bell from November 27, 2024, until their termination on November 28, 2024. During their employment, my client was subjected to ongoing sexual harassment by their supervisor, Mike Smith, in the break room. Despite reporting these incidents, my client faced retaliation and was subsequently terminated. Additionally, my client has raised concerns regarding unpaid regular hours and has indicated that they were misclassified as an independent contractor under the Fair Labor Standards Act (FLSA).\\n\\nMy client has also reported experiencing discrimination based on race, gender, and sexual orientation, which violates the Fair Employment and Housing Act (FEHA) and other applicable federal and state laws. Specifically, my client has been subjected to derogatory remarks and was denied the opportunity to pray at work, which constitutes a violation of their rights.\\n\\n**Legal Claims**\\n\\n1. **Unlawful Termination**: My client’s termination appears to be retaliatory in nature, violating public policy and potentially the California Labor Code.\\n   \\n2. **Discrimination**: My client has experienced discrimination based on race, gender, and sexual orientation, which violates the FEHA (Cal. Gov. Code § 12940 et seq.) and Title VII of the Civil Rights Act of 1964 (42 U.S.C. § 2000e et seq.).\\n\\n3. **Misclassification**: My client has been misclassified as an independent contractor, which violates the FLSA (29 U.S.C. § 201 et seq.) and California Labor Code provisions regarding employee classification.\\n\\n**Demand for Resolution**\\n\\nIn light of the above, we demand the following:\\n\\n1. Immediate reinstatement of my client to their position or, alternatively, a mutually agreed-upon settlement amount of $[specific amount] to compensate for lost wages, emotional distress, and punitive damages.\\n   \\n2. A commitment from Taco Bell to implement training and policies to prevent future discrimination and harassment in the workplace.\\n\\n3. A written apology acknowledging the wrongful termination and discriminatory practices experienced by my client.\\n\\n**Deadline for Response**\\n\\nPlease respond to this letter by [insert date, typically 14 days from the date of the letter]. If we do not receive a satisfactory response within this timeframe, we will consider all available legal remedies, including filing a formal complaint with the appropriate state and federal agencies and pursuing litigation.\\n\\nWe hope to resolve this matter amicably and look forward to your prompt attention to this serious issue.\\n\\nSincerely,\\n\\n[Your Signature]  \\n[Your Printed Name]  \\n[Your Title]  \\n[Your Law Firm’s Name]  \\n\\n**Cc:** [Client's Name]  \\n**Enclosures:** [Any relevant documents, if applicable]\"\n",
    "}\n",
    "\n",
    "# Convert Markdown to HTML\n",
    "html_output = markdown.markdown(data[\"demand_letter\"])\n",
    "\n",
    "# Display formatted output in Jupyter Notebook\n",
    "display(HTML(html_output))\n"
   ]
  }
 ],
 "metadata": {
  "kernelspec": {
   "display_name": "Python 3",
   "language": "python",
   "name": "python3"
  },
  "language_info": {
   "codemirror_mode": {
    "name": "ipython",
    "version": 3
   },
   "file_extension": ".py",
   "mimetype": "text/x-python",
   "name": "python",
   "nbconvert_exporter": "python",
   "pygments_lexer": "ipython3",
   "version": "3.12.1"
  }
 },
 "nbformat": 4,
 "nbformat_minor": 2
}
